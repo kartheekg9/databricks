{
 "cells": [
  {
   "cell_type": "markdown",
   "metadata": {
    "application/vnd.databricks.v1+cell": {
     "cellMetadata": {},
     "inputWidgets": {},
     "nuid": "06a102b8-3fea-4c57-b19b-df0641fc56c4",
     "showTitle": false,
     "tableResultSettingsMap": {},
     "title": ""
    }
   },
   "source": [
    "## Tables creation from json files provided"
   ]
  },
  {
   "cell_type": "code",
   "execution_count": 0,
   "metadata": {
    "application/vnd.databricks.v1+cell": {
     "cellMetadata": {},
     "inputWidgets": {},
     "nuid": "4bf68793-6f2b-49da-8736-e7a8a939c8da",
     "showTitle": false,
     "tableResultSettingsMap": {},
     "title": ""
    }
   },
   "outputs": [],
   "source": [
    "brand_data=spark.read.json(f'abfss://brandjsonfile@kartheekuntdl.dfs.core.windows.net/brands.json')"
   ]
  },
  {
   "cell_type": "code",
   "execution_count": 0,
   "metadata": {
    "application/vnd.databricks.v1+cell": {
     "cellMetadata": {},
     "inputWidgets": {},
     "nuid": "fa4dbe2d-a9a2-44ab-93b0-eb4de2925a4d",
     "showTitle": false,
     "tableResultSettingsMap": {},
     "title": ""
    }
   },
   "outputs": [],
   "source": [
    "users_data=spark.read.json(f'abfss://fetchjsonfiles@kartheekuntdl.dfs.core.windows.net/users.json')"
   ]
  },
  {
   "cell_type": "code",
   "execution_count": 0,
   "metadata": {
    "application/vnd.databricks.v1+cell": {
     "cellMetadata": {},
     "inputWidgets": {},
     "nuid": "6563e660-fabc-4e8c-8214-af63203ac982",
     "showTitle": false,
     "tableResultSettingsMap": {},
     "title": ""
    }
   },
   "outputs": [],
   "source": [
    "from pyspark.sql.functions import col\n",
    "\n",
    "# Flatten and transform the DataFrame\n",
    "df_transformed = (\n",
    "    brand_data\n",
    "    # Extract _id.$oid as id\n",
    "    .withColumn(\"id\", col(\"_id.$oid\")).drop(\"_id\")\n",
    "    #cpg\":{\"$id\":{\"$oid\":\"601ac114be37ce2ead437550\"},\"$ref\":\"Cogs\"}\n",
    "    # Extract cpg.$id.$oid and cpg.$ref\n",
    "    .withColumn(\"cpg_id\", col(\"cpg.$id.$oid\"))\n",
    "    .withColumn(\"cpg_ref\", col(\"cpg.$ref\"))\n",
    "    .drop(\"cpg\")\n",
    "\n",
    "    # Rename other columns as required (keeping existing ones)\n",
    "    .withColumnRenamed(\"barcode\", \"barcode\")\n",
    "    .withColumnRenamed(\"brandCode\", \"brand_code\")\n",
    "    .withColumnRenamed(\"category\", \"category\")\n",
    "    .withColumnRenamed(\"categoryCode\", \"category_code\")\n",
    "    .withColumnRenamed(\"name\", \"brand_name\")\n",
    "    .withColumnRenamed(\"topBrand\", \"top_brand\")\n",
    ")\n",
    "\n",
    "\n"
   ]
  },
  {
   "cell_type": "code",
   "execution_count": 0,
   "metadata": {
    "application/vnd.databricks.v1+cell": {
     "cellMetadata": {},
     "inputWidgets": {},
     "nuid": "2b97731f-4302-4bab-bf5d-2689a3d0070e",
     "showTitle": false,
     "tableResultSettingsMap": {},
     "title": ""
    }
   },
   "outputs": [],
   "source": [
    "%sql\n",
    "CREATE TABLE brands_table (\n",
    "    id STRING,\n",
    "    barcode STRING,\n",
    "    brand_code STRING,\n",
    "    category STRING,\n",
    "    category_code STRING,\n",
    "    cpg_id STRING,\n",
    "    cpg_ref STRING,\n",
    "    brand_name STRING,\n",
    "    top_brand BOOLEAN\n",
    ")\n",
    "USING DELTA;\n"
   ]
  },
  {
   "cell_type": "code",
   "execution_count": 0,
   "metadata": {
    "application/vnd.databricks.v1+cell": {
     "cellMetadata": {},
     "inputWidgets": {},
     "nuid": "60c23c71-f115-40c9-9568-a6d9958bdbcb",
     "showTitle": false,
     "tableResultSettingsMap": {},
     "title": ""
    }
   },
   "outputs": [],
   "source": [
    "# Save DataFrame as a Delta table\n",
    "df_transformed.write.format(\"delta\").mode(\"overwrite\").saveAsTable(\"brands_table\")"
   ]
  },
  {
   "cell_type": "code",
   "execution_count": 0,
   "metadata": {
    "application/vnd.databricks.v1+cell": {
     "cellMetadata": {},
     "inputWidgets": {},
     "nuid": "e42a29ce-fa83-4fc9-9984-95248159b157",
     "showTitle": false,
     "tableResultSettingsMap": {},
     "title": ""
    }
   },
   "outputs": [],
   "source": [
    "%sql \n",
    "select * from brands_table"
   ]
  },
  {
   "cell_type": "code",
   "execution_count": 0,
   "metadata": {
    "application/vnd.databricks.v1+cell": {
     "cellMetadata": {},
     "inputWidgets": {},
     "nuid": "de9d2d3e-f384-45d6-bdf3-fa50a3ba5588",
     "showTitle": false,
     "tableResultSettingsMap": {},
     "title": ""
    }
   },
   "outputs": [],
   "source": [
    "from pyspark.sql.functions import col, from_unixtime\n",
    "\n",
    "# Flatten and transform the DataFrame\n",
    "df_transformed = (\n",
    "    users_data\n",
    "    # Extract _id.$oid as id\n",
    "    .withColumn(\"id\", col(\"_id.$oid\")).drop(\"_id\")\n",
    "\n",
    "    # Convert $date timestamps to readable format\n",
    "    .withColumn(\"created_date\", from_unixtime(col(\"createdDate.$date\") / 1000))\n",
    "    .withColumn(\"last_login\", from_unixtime(col(\"lastLogin.$date\") / 1000))\n",
    "    .drop(\"createdDate\", \"lastLogin\")\n",
    "\n",
    "    # Rename other columns as required\n",
    "    .withColumnRenamed(\"role\", \"role\")\n",
    "    .withColumnRenamed(\"signUpSource\", \"sign_up_source\")\n",
    "    .withColumnRenamed(\"state\", \"state\")\n",
    ")\n",
    "\n",
    "# Show the transformed DataFrame\n",
    "#df_transformed.show(truncate=False)\n",
    "\n",
    "display(df_transformed)\n",
    "\n",
    "\n",
    "\n",
    "# Save DataFrame as a Delta table\n",
    "#df_transformed.write.format(\"delta\").mode(\"overwrite\").saveAsTable(\"users_table\")\n"
   ]
  },
  {
   "cell_type": "code",
   "execution_count": 0,
   "metadata": {
    "application/vnd.databricks.v1+cell": {
     "cellMetadata": {},
     "inputWidgets": {},
     "nuid": "d20412d4-8ff8-4b46-a845-7908f968a1df",
     "showTitle": false,
     "tableResultSettingsMap": {},
     "title": ""
    }
   },
   "outputs": [],
   "source": [
    "%sql\n",
    "CREATE TABLE users_table (\n",
    "    id STRING,\n",
    "    active BOOLEAN,\n",
    "    created_date TIMESTAMP,\n",
    "    last_login TIMESTAMP,\n",
    "    role STRING,\n",
    "    sign_up_source STRING,\n",
    "    state STRING\n",
    ")\n",
    "USING DELTA;\n"
   ]
  },
  {
   "cell_type": "code",
   "execution_count": 0,
   "metadata": {
    "application/vnd.databricks.v1+cell": {
     "cellMetadata": {},
     "inputWidgets": {},
     "nuid": "8784cccb-62e6-476c-827b-aefe39b2de5d",
     "showTitle": false,
     "tableResultSettingsMap": {},
     "title": ""
    }
   },
   "outputs": [],
   "source": [
    "from pyspark.sql.functions import col, from_unixtime, explode\n",
    "\n",
    "# Load JSON file (Update the file path accordingly)\n",
    "\n",
    "df = spark.read.json(f'abfss://recepientjsonfile@kartheekuntdl.dfs.core.windows.net/receipts.json')\n",
    "\n",
    "# Flatten and transform the DataFrame\n",
    "df_transformed = (\n",
    "    df\n",
    "    # Extract _id.$oid as id\n",
    "    .withColumn(\"id\", col(\"_id.$oid\")).drop(\"_id\")\n",
    "\n",
    "    # Convert $date timestamps to readable format\n",
    "    .withColumn(\"created_date\", from_unixtime(col(\"createDate.$date\") / 1000))\n",
    "    .withColumn(\"date_scanned\", from_unixtime(col(\"dateScanned.$date\") / 1000))\n",
    "    .withColumn(\"finished_date\", from_unixtime(col(\"finishedDate.$date\") / 1000))\n",
    "    .withColumn(\"modify_date\", from_unixtime(col(\"modifyDate.$date\") / 1000))\n",
    "    .withColumn(\"points_awarded_date\", from_unixtime(col(\"pointsAwardedDate.$date\") / 1000))\n",
    "    .withColumn(\"purchase_date\", from_unixtime(col(\"purchaseDate.$date\") / 1000))\n",
    "    .drop(\"createDate\", \"dateScanned\", \"finishedDate\", \"modifyDate\", \"pointsAwardedDate\", \"purchaseDate\")\n",
    "\n",
    "    # Rename other columns as required\n",
    "    .withColumnRenamed(\"bonusPointsEarned\", \"bonus_points_earned\")\n",
    "    .withColumnRenamed(\"bonusPointsEarnedReason\", \"bonus_points_reason\")\n",
    "    .withColumnRenamed(\"pointsEarned\", \"points_earned\")\n",
    "    .withColumnRenamed(\"purchasedItemCount\", \"purchased_item_count\")\n",
    "    .withColumnRenamed(\"rewardsReceiptStatus\", \"receipt_status\")\n",
    "    .withColumnRenamed(\"totalSpent\", \"total_spent\")\n",
    "    .withColumnRenamed(\"userId\", \"user_id\")\n",
    ")\n",
    "\n",
    "# Explode the rewardsReceiptItemList to create one row per item\n",
    "df_items = df_transformed.withColumn(\"items\", explode(col(\"rewardsReceiptItemList\"))).drop(\"rewardsReceiptItemList\")\n",
    "\n",
    "# Extract item details from the nested structure\n",
    "df_final = df_items.select(\n",
    "    col(\"id\"),\n",
    "    col(\"created_date\"),\n",
    "    col(\"date_scanned\"),\n",
    "    col(\"finished_date\"),\n",
    "    col(\"modify_date\"),\n",
    "    col(\"points_awarded_date\"),\n",
    "    col(\"purchase_date\"),\n",
    "    col(\"bonus_points_earned\"),\n",
    "    col(\"bonus_points_reason\"),\n",
    "    col(\"points_earned\"),\n",
    "    col(\"purchased_item_count\"),\n",
    "    col(\"receipt_status\"),\n",
    "    col(\"total_spent\"),\n",
    "    col(\"user_id\"),\n",
    "    col(\"items.barcode\").alias(\"item_barcode\"),\n",
    "    col(\"items.description\").alias(\"item_description\"),\n",
    "    col(\"items.finalPrice\").alias(\"item_final_price\"),\n",
    "    col(\"items.itemPrice\").alias(\"item_price\"),\n",
    "    col(\"items.quantityPurchased\").alias(\"item_quantity_purchased\"),\n",
    "    col(\"items.userFlaggedBarcode\").alias(\"item_user_flagged_barcode\"),\n",
    "    col(\"items.userFlaggedPrice\").alias(\"item_user_flagged_price\"),\n",
    "    col(\"items.userFlaggedQuantity\").alias(\"item_user_flagged_quantity\")\n",
    ")\n",
    "\n",
    "# Display the transformed DataFrame\n",
    "display(df_final)\n",
    "\n",
    "# Save DataFrame as a Delta table\n",
    "df_final.write.format(\"delta\").mode(\"overwrite\").saveAsTable(\"receipts_table\")\n"
   ]
  },
  {
   "cell_type": "code",
   "execution_count": 0,
   "metadata": {
    "application/vnd.databricks.v1+cell": {
     "cellMetadata": {
      "byteLimit": 2048000,
      "implicitDf": true,
      "rowLimit": 10000
     },
     "inputWidgets": {},
     "nuid": "96ea67ad-5cad-45c2-ae28-6e229a1f23b1",
     "showTitle": false,
     "tableResultSettingsMap": {},
     "title": ""
    }
   },
   "outputs": [],
   "source": [
    "%sql\n",
    "Select * from receipts_table"
   ]
  },
  {
   "cell_type": "markdown",
   "metadata": {
    "application/vnd.databricks.v1+cell": {
     "cellMetadata": {},
     "inputWidgets": {},
     "nuid": "cfe0c190-fc14-4538-8a47-d5da5d687798",
     "showTitle": false,
     "tableResultSettingsMap": {},
     "title": ""
    }
   },
   "source": [
    "## Second: Write queries that directly answer predetermined questions from a business stakeholder"
   ]
  },
  {
   "cell_type": "code",
   "execution_count": 0,
   "metadata": {
    "application/vnd.databricks.v1+cell": {
     "cellMetadata": {
      "byteLimit": 2048000,
      "implicitDf": true,
      "rowLimit": 10000
     },
     "inputWidgets": {},
     "nuid": "4c4d0bb4-6f3b-4c0a-8dd9-358ce165e31e",
     "showTitle": false,
     "tableResultSettingsMap": {},
     "title": ""
    }
   },
   "outputs": [],
   "source": [
    "%sql\n",
    "--from the given data in json we are seeing only FLAGGED, FINISHED, REJECTED, PENDING\n",
    "select distinct receipt_status from receipts_table"
   ]
  },
  {
   "cell_type": "code",
   "execution_count": 0,
   "metadata": {
    "application/vnd.databricks.v1+cell": {
     "cellMetadata": {
      "byteLimit": 2048000,
      "implicitDf": true,
      "rowLimit": 10000
     },
     "inputWidgets": {},
     "nuid": "ea7b4175-5c79-42ff-bb7c-f4ad029545ba",
     "showTitle": false,
     "tableResultSettingsMap": {},
     "title": ""
    }
   },
   "outputs": [],
   "source": [
    "%sql\n",
    "\n",
    "--5.When considering total number of items purchased from receipts with 'rewardsReceiptStatus’ of ‘Accepted’ or ‘Rejected’, which is greater?\n",
    "with cte as(\n",
    "SELECT receipt_Status, SUM(purchased_item_count) AS total_items_purchased\n",
    "FROM receipts_table\n",
    "WHERE receipt_Status IN ('ACCEPTED', 'REJECTED')\n",
    "GROUP BY receipt_Status)\n",
    "\n",
    "--In order to get the greater value we need to get the max value\n",
    "select * from cte where total_items_purchased == (select max(total_items_purchased) from cte)\n",
    "\n",
    "\n",
    "\n"
   ]
  },
  {
   "cell_type": "code",
   "execution_count": 0,
   "metadata": {
    "application/vnd.databricks.v1+cell": {
     "cellMetadata": {
      "byteLimit": 2048000,
      "implicitDf": true,
      "rowLimit": 10000
     },
     "inputWidgets": {},
     "nuid": "cf0bea07-0de7-4c6c-bda8-428300fbedce",
     "showTitle": false,
     "tableResultSettingsMap": {},
     "title": ""
    }
   },
   "outputs": [],
   "source": [
    "%sql\n",
    "--6.When considering average spend from receipts with 'rewardsReceiptStatus’ of ‘Accepted’ or ‘Rejected’, which is greater?\n",
    "with cte as (\n",
    "SELECT receipt_Status, avg(total_spent) AS avg_spent\n",
    "FROM receipts_table\n",
    "WHERE receipt_Status IN ('ACCEPTED', 'REJECTED')\n",
    "GROUP BY receipt_Status)\n",
    "--In order to get the greater value we need to get the max value\n",
    "select * from cte where avg_spent == (select max(avg_spent) from cte)\n"
   ]
  },
  {
   "cell_type": "code",
   "execution_count": 0,
   "metadata": {
    "application/vnd.databricks.v1+cell": {
     "cellMetadata": {
      "byteLimit": 2048000,
      "implicitDf": true,
      "rowLimit": 10000
     },
     "inputWidgets": {},
     "nuid": "f3adb904-d882-4dbd-8001-87c70e3041e3",
     "showTitle": false,
     "tableResultSettingsMap": {},
     "title": ""
    }
   },
   "outputs": [],
   "source": [
    "%sql\n",
    "--1.What are the top 5 brands by receipts scanned for most recent month?\n",
    "--Here, I dont see any relation between the brands table and receipts table from the files given. I need more information about how these tables are related. The information is incomplete\n",
    "--if i assume barcode in receipt table and barcode in brand table are same then we can get the top 5 brands by receipts scanned for most recent month\n",
    "--the most recent month of date scanned in receipts table is 03 and year is 2021\n",
    "--if you are asking for the top 5 brands by receipts scanned for most recent month then we dont have any records with 03 and year is 2021\n",
    "--Because if i join brands table and receipt table on barcode, i will be having 89 records with 2021 and 01 as latest year and month\n",
    "\n",
    "\n",
    "\n",
    "-- Finding the most recent year and month from receipts table\n",
    "WITH recent_date AS (\n",
    "    SELECT \n",
    "        MAX(YEAR(date_scanned)) AS recent_year,\n",
    "        MAX(MONTH(date_scanned)) AS recent_month\n",
    "    FROM receipts_table\n",
    ")\n",
    "\n",
    "-- Get the top 5 brands by receipts scanned for the most recent month\n",
    "SELECT \n",
    "    b.brand_name, \n",
    "    COUNT(r.id) AS receipts_count\n",
    "FROM \n",
    "    receipts_table r\n",
    "INNER JOIN \n",
    "    brands_table b \n",
    "ON \n",
    "    r.item_barcode = b.barcode\n",
    "INNER JOIN \n",
    "    recent_date rd\n",
    "ON \n",
    "    YEAR(r.date_scanned) = rd.recent_year \n",
    "    AND MONTH(r.date_scanned) = rd.recent_month\n",
    "GROUP BY \n",
    "    b.brand_name\n",
    "ORDER BY \n",
    "    receipts_count DESC\n",
    "LIMIT 5\n"
   ]
  },
  {
   "cell_type": "markdown",
   "metadata": {
    "application/vnd.databricks.v1+cell": {
     "cellMetadata": {},
     "inputWidgets": {},
     "nuid": "344219f9-933b-4410-8e60-5cb26bbbed03",
     "showTitle": false,
     "tableResultSettingsMap": {},
     "title": ""
    }
   },
   "source": [
    "##Third: Evaluate Data Quality Issues in the Data Provided"
   ]
  },
  {
   "cell_type": "code",
   "execution_count": 0,
   "metadata": {
    "application/vnd.databricks.v1+cell": {
     "cellMetadata": {
      "byteLimit": 2048000,
      "implicitDf": true,
      "rowLimit": 10000
     },
     "inputWidgets": {},
     "nuid": "c66ef2fd-3ec2-46ee-9f03-74bcb32d767a",
     "showTitle": false,
     "tableResultSettingsMap": {},
     "title": ""
    }
   },
   "outputs": [],
   "source": [
    "%sql\n",
    "--users table\n",
    "--1.if we assume id is unique then we can should no have any duplicates for the users\n",
    "--but we are seeing duplicate records for user id and below query can give you those id's and i could see the duplicate records for these id's example id: '5fc961c3b8cfca11a077dd33'\n",
    "\n",
    "--we can perform this query on primary key making sure no duplicate values\n",
    "Select id,count(*) \n",
    "from users_table \n",
    "group by id \n",
    "having count(*) > 1\n",
    "order by count(*) desc;\n",
    "\n",
    "--checking whether primary key values having null values\n",
    "select * from brands_table where id is null;\n",
    "\n",
    "--here we are having null values for the item_barcode which should not be as we exepcting barcode for every receipt \n",
    "SELECT DISTINCT id FROM receipts_table WHERE item_barcode IS NULL;\n",
    "\n",
    "--Chceking for any negative values , here i am checking total_spent and purchased_item_count from receipts table , further we can check with any other columns as required with below query\n",
    "SELECT \n",
    "    COUNT(*) AS negative_prices \n",
    "FROM receipts_table \n",
    "WHERE total_spent < 0 OR purchased_item_count < 0\n",
    "\n",
    "--checking for the year of date columns making sure it is always less than current_date()\n",
    "SELECT COUNT(*) AS future_dates \n",
    "FROM users_table \n",
    "WHERE year(created_date) > year(current_date())\n",
    "\n",
    "--we have milliseconds (Unix epoch time) in the date columns and i have created the tables with correct date format using below \n",
    "-- (\"created_date\", from_unixtime(col(\"createDate.$date\") / 1000))\n",
    "\n"
   ]
  },
  {
   "cell_type": "markdown",
   "metadata": {
    "application/vnd.databricks.v1+cell": {
     "cellMetadata": {},
     "inputWidgets": {},
     "nuid": "dafdcb16-f277-489b-bd11-0e4053b1dced",
     "showTitle": false,
     "tableResultSettingsMap": {},
     "title": ""
    }
   },
   "source": [
    "##Fourth: Communicate with Stakeholders "
   ]
  },
  {
   "cell_type": "markdown",
   "metadata": {
    "application/vnd.databricks.v1+cell": {
     "cellMetadata": {},
     "inputWidgets": {},
     "nuid": "c84d544e-ec8d-48ff-ba53-1148ecc32a3e",
     "showTitle": false,
     "tableResultSettingsMap": {},
     "title": ""
    }
   },
   "source": [
    "\n",
    "Hello Team,\n",
    "\n",
    "We've been analyzing our data quality and have identified several issues that may impact analytics and decision-making.\n",
    "\n",
    "\n",
    "1. Duplicate User IDs 🔄\n",
    "\n",
    "   Some user IDs appear multiple times, which could lead to incorrect user analytics (I am assuming ID's as primary key)\n",
    "\n",
    "2. Missing & Null Data\n",
    "  \n",
    "  Some barcodes are missing from receipts, making it difficult to track item purchases accurately.\n",
    "  \n",
    "3. Relation between tables\n",
    "\n",
    "here i dont see any any relation between the brands and receipts table as per the json files given. \n",
    "I would like to have more clarity on this tables dependancies.\n",
    "\n",
    "Also, I am doing more quality checks on the data provdied against tables.\n",
    "\n",
    "Confirm expected relationships between brands, receipts, and users.\n",
    "Fix duplicate user IDs and ensure unique constraints.\n",
    "Investigate missing barcodes—should these be mandatory?\n",
    "Standardize timestamps to prevent future-date issues.\n",
    "\n",
    "Would love your input on which issues are most critical to the business so we can prioritize our fixes.\n",
    "I am happy to discuss more on this through call\n",
    "\n",
    "Thanks & Regards\n",
    "Kartheek Gurijala"
   ]
  }
 ],
 "metadata": {
  "application/vnd.databricks.v1+notebook": {
   "computePreferences": null,
   "dashboards": [],
   "environmentMetadata": {
    "base_environment": "",
    "environment_version": "2"
   },
   "language": "python",
   "notebookMetadata": {
    "mostRecentlyExecutedCommandWithImplicitDF": {
     "commandId": 6878296694989564,
     "dataframes": [
      "_sqldf"
     ]
    },
    "pythonIndentUnit": 4
   },
   "notebookName": "(Clone) Fetch_Assignment",
   "widgets": {}
  },
  "language_info": {
   "name": "python"
  }
 },
 "nbformat": 4,
 "nbformat_minor": 0
}
