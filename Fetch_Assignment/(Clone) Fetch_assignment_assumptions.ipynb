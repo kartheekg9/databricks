{
 "cells": [
  {
   "cell_type": "markdown",
   "metadata": {
    "application/vnd.databricks.v1+cell": {
     "cellMetadata": {},
     "inputWidgets": {},
     "nuid": "1395f259-c0fb-4abd-88d6-3124ba392200",
     "showTitle": false,
     "tableResultSettingsMap": {},
     "title": ""
    }
   },
   "source": [
    "If i assume barcode is the link between brand and new table rewardsrecipitlist  we can link users → receipts → receipt_items → brands"
   ]
  },
  {
   "cell_type": "code",
   "execution_count": 0,
   "metadata": {
    "application/vnd.databricks.v1+cell": {
     "cellMetadata": {},
     "inputWidgets": {},
     "nuid": "bdca41da-59f6-403d-b80a-ef93edbd48b3",
     "showTitle": false,
     "tableResultSettingsMap": {},
     "title": ""
    }
   },
   "outputs": [],
   "source": [
    "%sql\n",
    "--Which brand has the most transactions among users who were created within the past 6 months\n",
    "WITH recent_users AS (\n",
    "    SELECT id AS user_id \n",
    "    FROM users_table \n",
    "    WHERE created_date >= date_sub(current_date(), 180) -- Users created in the last 6 months\n",
    ")\n",
    "SELECT \n",
    "    b.brand_name, \n",
    "    SUM(ri.item_final_price * ri.item_quantity_purchased) AS total_spent\n",
    "FROM recent_users u\n",
    "JOIN receipts_table r ON u.user_id = r.user_id\n",
    "JOIN receipt_items ri ON r.id = ri.receipt_id\n",
    "JOIN brands_table b ON ri.brand_id = b.id\n",
    "GROUP BY b.brand_name\n",
    "ORDER BY total_spent DESC\n",
    "LIMIT 1;\n"
   ]
  },
  {
   "cell_type": "code",
   "execution_count": 0,
   "metadata": {
    "application/vnd.databricks.v1+cell": {
     "cellMetadata": {},
     "inputWidgets": {},
     "nuid": "aae18adb-8aeb-4e49-b519-380498e5c29f",
     "showTitle": false,
     "tableResultSettingsMap": {},
     "title": ""
    }
   },
   "outputs": [],
   "source": [
    "%sql\n",
    "--Which brand has the most spend among users who were created within the past 6 months\n",
    "WITH recent_users AS (\n",
    "    SELECT id AS user_id \n",
    "    FROM users_table \n",
    "    WHERE created_date >= date_sub(current_date(), 180) -- Users created in the last 6 months\n",
    ")\n",
    "SELECT \n",
    "    b.brand_name, \n",
    "    COUNT(DISTINCT r.id) AS total_transactions\n",
    "FROM recent_users u\n",
    "JOIN receipts_table r ON u.user_id = r.user_id\n",
    "JOIN receipt_items ri ON r.id = ri.receipt_id\n",
    "JOIN brands_table b ON ri.brand_id = b.id\n",
    "GROUP BY b.brand_name\n",
    "ORDER BY total_transactions DESC\n",
    "LIMIT 1;\n",
    "\n",
    "300000000000000000000000000000000000000000\n"
   ]
  }
 ],
 "metadata": {
  "application/vnd.databricks.v1+notebook": {
   "computePreferences": null,
   "dashboards": [],
   "environmentMetadata": {
    "base_environment": "",
    "environment_version": "2"
   },
   "language": "python",
   "notebookMetadata": {
    "pythonIndentUnit": 4
   },
   "notebookName": "(Clone) Fetch_assignment_assumptions",
   "widgets": {}
  },
  "language_info": {
   "name": "python"
  }
 },
 "nbformat": 4,
 "nbformat_minor": 0
}
